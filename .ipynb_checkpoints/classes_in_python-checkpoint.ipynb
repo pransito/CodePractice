{
 "cells": [
  {
   "cell_type": "code",
   "execution_count": 10,
   "metadata": {},
   "outputs": [],
   "source": [
    "# classes\n",
    "# if you call different functions always with the same arguments\n",
    "# then a class could be needed\n",
    "# classes should have capital letter\n",
    "# class is defined by \"class ClassName:\"\n",
    "\n",
    "class Car:\n",
    "    # docstring\n",
    "    '''Car class: creates car objects'''\n",
    "    \n",
    "    # variables that are common to all instances\n",
    "    number_wheels = 4\n",
    "    number_driver_seats = 1\n",
    "    car_count = 0\n",
    "    \n",
    "    def __init__(self, color, style):\n",
    "        self.color = color\n",
    "        self.style = style\n",
    "        Car.car_count += 1 # accessing a fixed class variable and updating the class variable!\n",
    "    \n",
    "    def displayCount(self):\n",
    "        print (\"Total Cars {:d}\".format(Car.car_count))\n",
    "\n",
    "    def displayColorStyle(self):\n",
    "        print (\"Color : \", self.color,  \", Style: \", self.style)"
   ]
  },
  {
   "cell_type": "code",
   "execution_count": 11,
   "metadata": {},
   "outputs": [],
   "source": [
    "car1 = Car('red','sportscar')"
   ]
  },
  {
   "cell_type": "code",
   "execution_count": 12,
   "metadata": {},
   "outputs": [
    {
     "name": "stdout",
     "output_type": "stream",
     "text": [
      "Total Cars 1\n"
     ]
    }
   ],
   "source": [
    "car1.displayCount()"
   ]
  },
  {
   "cell_type": "code",
   "execution_count": 13,
   "metadata": {},
   "outputs": [
    {
     "name": "stdout",
     "output_type": "stream",
     "text": [
      "Total Cars 2\n"
     ]
    }
   ],
   "source": [
    "car2 = Car('blue','convertible')\n",
    "car2.displayCount()"
   ]
  },
  {
   "cell_type": "code",
   "execution_count": 14,
   "metadata": {},
   "outputs": [
    {
     "name": "stdout",
     "output_type": "stream",
     "text": [
      "<__main__.Car object at 0x000002218F615828>\n"
     ]
    }
   ],
   "source": [
    "print(car2)"
   ]
  },
  {
   "cell_type": "code",
   "execution_count": 19,
   "metadata": {},
   "outputs": [],
   "source": [
    "class Car:\n",
    "    # docstring\n",
    "    '''Car class: creates car objects'''\n",
    "    \n",
    "    # variables that are common to all instances\n",
    "    number_wheels = 4\n",
    "    number_driver_seats = 1\n",
    "    car_count = 0\n",
    "    \n",
    "    def __init__(self, color, style): # will be called when initializing an instance of the object\n",
    "        self.color = color\n",
    "        self.style = style\n",
    "        Car.car_count += 1 # accessing a fixed class variable and updating the class variable!\n",
    "        \n",
    "    def __repr__(self):    # function to be called if orint is called on an instance\n",
    "        return('This is a car that is ' + self.color)\n",
    "    \n",
    "    def displayCount(self):\n",
    "        print (\"Total Cars {:d}\".format(Car.car_count))\n",
    "\n",
    "    def displayColorStyle(self):\n",
    "        print (\"Color : \", self.color,  \", Style: \", self.style)"
   ]
  },
  {
   "cell_type": "code",
   "execution_count": 20,
   "metadata": {},
   "outputs": [
    {
     "name": "stdout",
     "output_type": "stream",
     "text": [
      "This is a car that is mint\n"
     ]
    }
   ],
   "source": [
    "car3 = Car('mint','convertible')\n",
    "print(car3)"
   ]
  },
  {
   "cell_type": "code",
   "execution_count": 21,
   "metadata": {},
   "outputs": [
    {
     "name": "stdout",
     "output_type": "stream",
     "text": [
      "Help on Car in module __main__ object:\n",
      "\n",
      "class Car(builtins.object)\n",
      " |  Car(color, style)\n",
      " |  \n",
      " |  Car class: creates car objects\n",
      " |  \n",
      " |  Methods defined here:\n",
      " |  \n",
      " |  __init__(self, color, style)\n",
      " |      Initialize self.  See help(type(self)) for accurate signature.\n",
      " |  \n",
      " |  __repr__(self)\n",
      " |      Return repr(self).\n",
      " |  \n",
      " |  displayColorStyle(self)\n",
      " |  \n",
      " |  displayCount(self)\n",
      " |  \n",
      " |  ----------------------------------------------------------------------\n",
      " |  Data descriptors defined here:\n",
      " |  \n",
      " |  __dict__\n",
      " |      dictionary for instance variables (if defined)\n",
      " |  \n",
      " |  __weakref__\n",
      " |      list of weak references to the object (if defined)\n",
      " |  \n",
      " |  ----------------------------------------------------------------------\n",
      " |  Data and other attributes defined here:\n",
      " |  \n",
      " |  car_count = 1\n",
      " |  \n",
      " |  number_driver_seats = 1\n",
      " |  \n",
      " |  number_wheels = 4\n",
      "\n"
     ]
    }
   ],
   "source": [
    "help(car3)"
   ]
  },
  {
   "cell_type": "code",
   "execution_count": 25,
   "metadata": {},
   "outputs": [
    {
     "name": "stdout",
     "output_type": "stream",
     "text": [
      "3000\n"
     ]
    }
   ],
   "source": [
    "# you can add previously not defined attributes\n",
    "car3.price = 3000\n",
    "print(car3.price)"
   ]
  },
  {
   "cell_type": "code",
   "execution_count": null,
   "metadata": {},
   "outputs": [],
   "source": []
  }
 ],
 "metadata": {
  "kernelspec": {
   "display_name": "Python 3",
   "language": "python",
   "name": "python3"
  },
  "language_info": {
   "codemirror_mode": {
    "name": "ipython",
    "version": 3
   },
   "file_extension": ".py",
   "mimetype": "text/x-python",
   "name": "python",
   "nbconvert_exporter": "python",
   "pygments_lexer": "ipython3",
   "version": "3.7.0"
  }
 },
 "nbformat": 4,
 "nbformat_minor": 2
}
