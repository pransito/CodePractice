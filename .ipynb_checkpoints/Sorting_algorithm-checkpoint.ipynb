{
 "cells": [
  {
   "cell_type": "code",
   "execution_count": 6,
   "metadata": {},
   "outputs": [],
   "source": [
    "import sys"
   ]
  },
  {
   "cell_type": "code",
   "execution_count": 4,
   "metadata": {},
   "outputs": [],
   "source": [
    "# selection sort algorithm\n",
    "# Traverse through all array elements\n",
    "A = [64, 25, 12, 22, 11]\n",
    "for i in range(len(A)): # current elements\n",
    "      \n",
    "    # Find the minimum element in remaining  \n",
    "    # unsorted array \n",
    "    min_idx = i \n",
    "    for j in range(i+1, len(A)): # all the \"current following\" elements\n",
    "        if A[min_idx] > A[j]:    # if the \"current\" element is larger then the \"current following\" element\n",
    "            min_idx = j          # then we found a new argmin\n",
    "              \n",
    "    # Swap the found minimum element with  \n",
    "    # the current element         \n",
    "    A[i], A[min_idx] = A[min_idx], A[i] "
   ]
  },
  {
   "cell_type": "code",
   "execution_count": 5,
   "metadata": {},
   "outputs": [
    {
     "data": {
      "text/plain": [
       "[11, 12, 22, 25, 64]"
      ]
     },
     "execution_count": 5,
     "metadata": {},
     "output_type": "execute_result"
    }
   ],
   "source": [
    "A"
   ]
  },
  {
   "cell_type": "code",
   "execution_count": null,
   "metadata": {},
   "outputs": [],
   "source": [
    "# complexity\n",
    "# T(n) = n^2 + n -2\n",
    "# every doubling leads to approx. 4 times more computing time\n",
    "# bubble sort:\n",
    "# T(n) = 0.5*n^2 + 0.5*n\n",
    "# but with large n the difference is negligable; the increase "
   ]
  }
 ],
 "metadata": {
  "kernelspec": {
   "display_name": "Python 3",
   "language": "python",
   "name": "python3"
  },
  "language_info": {
   "codemirror_mode": {
    "name": "ipython",
    "version": 3
   },
   "file_extension": ".py",
   "mimetype": "text/x-python",
   "name": "python",
   "nbconvert_exporter": "python",
   "pygments_lexer": "ipython3",
   "version": "3.5.5"
  }
 },
 "nbformat": 4,
 "nbformat_minor": 2
}
