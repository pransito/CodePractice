{
 "cells": [
  {
   "cell_type": "code",
   "execution_count": 161,
   "metadata": {},
   "outputs": [],
   "source": [
    "import pandas as pd\n",
    "import numpy as np\n",
    "from random import choices\n",
    "import timeit"
   ]
  },
  {
   "cell_type": "code",
   "execution_count": 152,
   "metadata": {},
   "outputs": [],
   "source": [
    "# reshape a df\n",
    "# df is\n",
    "# columns: id, region, type, value\n",
    "# id is an identifier\n",
    "# type has A, B, C per id, so id and region are repeating three times\n",
    "# so (id, region, type) can be chose as a unique identifier for each observation"
   ]
  },
  {
   "cell_type": "code",
   "execution_count": 153,
   "metadata": {},
   "outputs": [],
   "source": [
    "# get some mock data\n",
    "def make_df(n):\n",
    "    '''makes a data frame of n IDs\n",
    "    region is here for each ID one of 4 regions (Bavaria,Saxony,Berlin,Saarland)\n",
    "    and '''\n",
    "    ids = np.repeat(list(range(1,(n+1))),3)\n",
    "    myregions = ['Bavaria','Saxony','Berlin','Saarland']\n",
    "    myregions = np.repeat(choices(myregions,k=n),3)\n",
    "    Type = np.tile(['A','B','C'],n)\n",
    "    value = np.random.rand(n*3,1).ravel()\n",
    "    df = pd.DataFrame({'ID': ids, 'Region': myregions,\n",
    "                   'Type': Type, 'Value': value})\n",
    "    return(df)"
   ]
  },
  {
   "cell_type": "code",
   "execution_count": 191,
   "metadata": {},
   "outputs": [
    {
     "name": "stdout",
     "output_type": "stream",
     "text": [
      "   ID    Region Type     Value\n",
      "0   1    Berlin    A  0.574965\n",
      "1   1    Berlin    B  0.589903\n",
      "2   1    Berlin    C  0.271191\n",
      "3   2  Saarland    A  0.561677\n",
      "4   2  Saarland    B  0.524175\n",
      "5   2  Saarland    C  0.417980\n",
      "6   3   Bavaria    A  0.238695\n",
      "7   3   Bavaria    B  0.384024\n",
      "8   3   Bavaria    C  0.766990\n",
      "9   4   Bavaria    A  0.692687\n"
     ]
    }
   ],
   "source": [
    "df = make_df(10)\n",
    "print(df.head(10))"
   ]
  },
  {
   "cell_type": "code",
   "execution_count": 192,
   "metadata": {},
   "outputs": [],
   "source": [
    "# build a reshape function based on pd.unstack()\n",
    "# and building a multiindex from the id-variables\n",
    "def reshape(df, id_vars = ['ID','Region','Type'],unstack_var = 'Type'):\n",
    "    '''Function that reshapes by unstacking (pd.unstack())'''\n",
    "    zip_list = []\n",
    "    for i in id_vars:\n",
    "        zip_list.append(df[i])\n",
    "    df.index = pd.MultiIndex.from_tuples(zip(*zip_list), names=id_vars)\n",
    "    df = df.drop(id_vars,axis=1)\n",
    "    df = df.unstack(unstack_var)\n",
    "    return(df)"
   ]
  },
  {
   "cell_type": "code",
   "execution_count": 193,
   "metadata": {},
   "outputs": [
    {
     "name": "stdout",
     "output_type": "stream",
     "text": [
      "                Value                    \n",
      "Type                A         B         C\n",
      "ID Region                                \n",
      "1  Berlin    0.574965  0.589903  0.271191\n",
      "2  Saarland  0.561677  0.524175  0.417980\n",
      "3  Bavaria   0.238695  0.384024  0.766990\n",
      "4  Bavaria   0.692687  0.974920  0.944989\n",
      "5  Bavaria   0.083694  0.343837  0.058472\n",
      "6  Bavaria   0.348042  0.586009  0.218805\n",
      "7  Saarland  0.370580  0.780664  0.835219\n",
      "8  Saarland  0.721072  0.885048  0.881570\n",
      "9  Saarland  0.506829  0.040173  0.963820\n",
      "10 Saarland  0.872365  0.244349  0.337765\n"
     ]
    }
   ],
   "source": [
    "df_reshaped = reshape(df)\n",
    "print(df_reshaped.head(10))"
   ]
  },
  {
   "cell_type": "code",
   "execution_count": 194,
   "metadata": {},
   "outputs": [],
   "source": [
    "# creating a data frame with 100.000 IDs\n",
    "# i.e. 300,000 rows\n",
    "df = make_df(100000)"
   ]
  },
  {
   "cell_type": "code",
   "execution_count": 195,
   "metadata": {},
   "outputs": [
    {
     "name": "stdout",
     "output_type": "stream",
     "text": [
      "Time needed for reshaping: 1.092s\n"
     ]
    }
   ],
   "source": [
    "# measuring the execution time\n",
    "start = timeit.time.perf_counter()\n",
    "df = reshape(df)\n",
    "end = timeit.time.perf_counter()\n",
    "print ('Time needed for reshaping of 100,000 IDs: ' + str(round(end - start,3)) + 's')"
   ]
  },
  {
   "cell_type": "code",
   "execution_count": 196,
   "metadata": {},
   "outputs": [],
   "source": [
    "# creating a data frame with 100.000 IDs\n",
    "# i.e. 3,000,000 rows\n",
    "df = make_df(1000000)"
   ]
  },
  {
   "cell_type": "code",
   "execution_count": 197,
   "metadata": {},
   "outputs": [
    {
     "name": "stdout",
     "output_type": "stream",
     "text": [
      "Time needed for reshaping of 1,000,000 IDs: 10.702s\n"
     ]
    }
   ],
   "source": [
    "# measuring the execution time\n",
    "start = timeit.time.perf_counter()\n",
    "df = reshape(df)\n",
    "end = timeit.time.perf_counter()\n",
    "print ('Time needed for reshaping of 1,000,000 IDs: ' + str(round(end - start,3)) + 's')"
   ]
  },
  {
   "cell_type": "code",
   "execution_count": null,
   "metadata": {},
   "outputs": [],
   "source": []
  }
 ],
 "metadata": {
  "kernelspec": {
   "display_name": "Python 3",
   "language": "python",
   "name": "python3"
  },
  "language_info": {
   "codemirror_mode": {
    "name": "ipython",
    "version": 3
   },
   "file_extension": ".py",
   "mimetype": "text/x-python",
   "name": "python",
   "nbconvert_exporter": "python",
   "pygments_lexer": "ipython3",
   "version": "3.7.1"
  }
 },
 "nbformat": 4,
 "nbformat_minor": 2
}
